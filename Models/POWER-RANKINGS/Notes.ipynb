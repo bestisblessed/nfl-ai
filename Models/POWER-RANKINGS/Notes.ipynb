{
  "cells": [
    {
      "cell_type": "markdown",
      "metadata": {},
      "source": [
        "<div style=\"text-align: center;\">\n",
        "<h1>NFL Elo Rating System Explained</h1>\n",
        "</div>"
      ]
    },
    {
      "cell_type": "markdown",
      "metadata": {},
      "source": [
        "## 1. Overview\n",
        "\n",
        "- Every team starts with a base Elo rating (e.g., 1500).\n",
        "- After each game, Elo ratings are updated based on:\n",
        "  - Who won/lost (or tied)\n",
        "  - The expected outcome (based on pre-game Elo)\n",
        "  - The margin of victory\n",
        "  - Home field advantage\n",
        "- Upsets and blowouts cause bigger Elo changes.\n",
        "- The bigger the surprise or the margin, the bigger the Elo change.\n",
        "\n",
        "<br></br>\n",
        "\n",
        "---"
      ]
    },
    {
      "cell_type": "markdown",
      "metadata": {},
      "source": [
        "## 2. Step-by-Step\n",
        "\n",
        "We'll walk through the Elo update for a single game, with formulas and Python code for each step."
      ]
    },
    {
      "cell_type": "markdown",
      "metadata": {},
      "source": [
        "### 2.1. Expected Score Calculation\n",
        "\n",
        "The expected score is the probability each team has to win, based on their Elo ratings and home field advantage.\n",
        "\n",
        "<br></br>\n",
        "\n",
        "$$\n",
        "\\text{expected\\_home} = \\frac{1}{1 + 10^{\\frac{(\\text{away\\_elo} - (\\text{home\\_elo} + \\text{hfa}))}{400}}}\n",
        "$$\n",
        "\n",
        "$$\n",
        "\\text{expected\\_away} = \\frac{1}{1 + 10^{\\frac{((\\text{home\\_elo} + \\text{hfa}) - \\text{away\\_elo})}{400}}}\n",
        "$$\n"
      ]
    },
    {
      "cell_type": "code",
      "execution_count": null,
      "metadata": {},
      "outputs": [],
      "source": [
        "# Example Elo ratings and home field advantage\n",
        "home_elo = 1500\n",
        "away_elo = 1500\n",
        "hfa = 2.5  # Home field advantage\n",
        "\n",
        "expected_home = 1 / (1 + 10 ** ((away_elo - (home_elo + hfa)) / 400))\n",
        "expected_away = 1 / (1 + 10 ** (((home_elo + hfa) - away_elo) / 400))\n",
        "\n",
        "print(f\"Expected home win probability: {expected_home:.3f}\")\n",
        "print(f\"Expected away win probability: {expected_away:.3f}\")\n"
      ]
    },
    {
      "cell_type": "markdown",
      "metadata": {},
      "source": [
        "### 2.2. Actual Result and Margin\n",
        "\n",
        "- If home team wins: `actual_home = 1`, `actual_away = 0`\n",
        "- If away team wins: `actual_home = 0`, `actual_away = 1`\n",
        "- If tie: `actual_home = 0.5`, `actual_away = 0.5`\n",
        "\n",
        "The margin of victory is used to scale the Elo change.\n"
      ]
    },
    {
      "cell_type": "code",
      "execution_count": null,
      "metadata": {},
      "outputs": [],
      "source": [
        "# Example game result\n",
        "home_score = 24\n",
        "away_score = 17\n",
        "\n",
        "if home_score > away_score:\n",
        "    actual_home, actual_away = 1, 0\n",
        "    score_diff = home_score - away_score\n",
        "elif away_score > home_score:\n",
        "    actual_home, actual_away = 0, 1\n",
        "    score_diff = away_score - home_score\n",
        "else:\n",
        "    actual_home, actual_away = 0.5, 0.5\n",
        "    score_diff = 0\n",
        "\n",
        "print(f\"Actual home: {actual_home}, Actual away: {actual_away}, Margin: {score_diff}\")\n"
      ]
    },
    {
      "cell_type": "markdown",
      "metadata": {},
      "source": [
        "### 2.3. K-Factor Adjustment (Margin of Victory)\n",
        "\n",
        "The K-factor is scaled up for bigger wins:\n",
        "\n",
        "<br></br>\n",
        "\n",
        "$$\n",
        "\\text{k\\_adj\\_factor} = 1 + \\frac{\\log(|\\text{score\\_diff}| + 1)}{10}\n",
        "$$"
      ]
    },
    {
      "cell_type": "code",
      "execution_count": null,
      "metadata": {},
      "outputs": [],
      "source": [
        "import numpy as np\n",
        "k_adj_factor = 1 + np.log(abs(score_diff) + 1) / 10\n",
        "print(f\"K-factor adjustment: {k_adj_factor:.3f}\")"
      ]
    },
    {
      "cell_type": "markdown",
      "metadata": {},
      "source": [
        "### 2.4. Elo Update Step\n",
        "\n",
        "The Elo ratings are updated for both teams:\n",
        "\n",
        "<br></br>\n",
        "\n",
        "$$\n",
        "\\text{new\\_elo} = \\text{old\\_elo} + K \\times \\text{k\\_adj\\_factor} \\times (\\text{actual} - \\text{expected})\n",
        "$$\n"
      ]
    },
    {
      "cell_type": "code",
      "execution_count": null,
      "metadata": {},
      "outputs": [],
      "source": [
        "K = 20  # base K-factor\n",
        "new_home_elo = home_elo + K * k_adj_factor * (actual_home - expected_home)\n",
        "new_away_elo = away_elo + K * k_adj_factor * (actual_away - expected_away)\n",
        "\n",
        "print(f\"New home Elo: {new_home_elo:.2f}\")\n",
        "print(f\"New away Elo: {new_away_elo:.2f}\")\n",
        "print(f\"Home Elo change: {new_home_elo - home_elo:+.2f}\")\n",
        "print(f\"Away Elo change: {new_away_elo - away_elo:+.2f}\")\n"
      ]
    }
  ],
  "metadata": {
    "kernelspec": {
      "display_name": "Python 3",
      "language": "python",
      "name": "python3"
    },
    "language_info": {
      "codemirror_mode": {
        "name": "ipython",
        "version": 3
      },
      "file_extension": ".py",
      "mimetype": "text/x-python",
      "name": "python",
      "nbconvert_exporter": "python",
      "pygments_lexer": "ipython3",
      "version": "3.12.0"
    }
  },
  "nbformat": 4,
  "nbformat_minor": 2
}
