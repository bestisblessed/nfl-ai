{
 "cells": [
  {
   "cell_type": "code",
   "execution_count": 1,
   "id": "55da3e67-e39b-4c54-a5ce-443566785444",
   "metadata": {},
   "outputs": [],
   "source": [
    "import pandas as pd\n",
    "from sklearn.model_selection import train_test_split\n",
    "from sklearn.linear_model import LogisticRegression\n",
    "from sklearn.metrics import classification_report, accuracy_score, confusion_matrix\n",
    "from sklearn.ensemble import RandomForestClassifier\n",
    "from xgboost import XGBClassifier"
   ]
  },
  {
   "cell_type": "markdown",
   "id": "0bda37d5-5116-4bc3-9221-8729c5b7a5c4",
   "metadata": {},
   "source": [
    "# Probability QB Will Throw a Touchdown"
   ]
  },
  {
   "cell_type": "code",
   "execution_count": 2,
   "id": "9c88d586-0afe-4cdc-9596-c63920362cea",
   "metadata": {},
   "outputs": [
    {
     "name": "stdout",
     "output_type": "stream",
     "text": [
      "Accuracy: 0.6341\n",
      "\n",
      "Classification Report:\n",
      "               precision    recall  f1-score   support\n",
      "\n",
      "           0       0.63      0.76      0.69       277\n",
      "           1       0.64      0.49      0.56       245\n",
      "\n",
      "    accuracy                           0.63       522\n",
      "   macro avg       0.64      0.63      0.62       522\n",
      "weighted avg       0.64      0.63      0.63       522\n",
      "\n",
      "\n",
      "Confusion Matrix:\n",
      " [[210  67]\n",
      " [124 121]]\n"
     ]
    }
   ],
   "source": [
    "# Train & evaluate logistic regression model\n",
    "\n",
    "player_stats_with_defense = pd.read_csv('PlayerStats.csv', low_memory=False)\n",
    "\n",
    "# Step 1: Remove rows where all relevant stats are zeros\n",
    "stats_columns = ['attempts', 'completions', 'passing_yards', 'passing_tds', 'sacks']\n",
    "player_stats_with_defense_cleaned = player_stats_with_defense[\n",
    "    ~((player_stats_with_defense[stats_columns] == 0).all(axis=1))\n",
    "]\n",
    "\n",
    "# Step 2: Filter data to only include seasons 2020, 2021, 2022, 2023\n",
    "seasons_to_keep = [2020, 2021, 2022, 2023]\n",
    "player_stats_with_defense_cleaned = player_stats_with_defense_cleaned[\n",
    "    player_stats_with_defense_cleaned['season'].isin(seasons_to_keep)\n",
    "]\n",
    "\n",
    "# Step 3: Filter to only keep rows where position is QB\n",
    "player_stats_with_defense_cleaned = player_stats_with_defense_cleaned[\n",
    "    player_stats_with_defense_cleaned['position'] == 'QB'\n",
    "]\n",
    "\n",
    "# Basic feature selection\n",
    "features = ['attempts', 'completions', 'passing_yards', 'passing_tds', 'sacks', 'opponent_defense_strength']\n",
    "\n",
    "# Target variable: whether the QB threw an interception\n",
    "player_stats_with_defense_cleaned['threw_interception'] = player_stats_with_defense_cleaned['interceptions'].apply(lambda x: 1 if x > 0 else 0)\n",
    "\n",
    "# Drop rows with missing values\n",
    "player_stats_with_defense_cleaned = player_stats_with_defense_cleaned.dropna(subset=features + ['threw_interception'])\n",
    "\n",
    "# Split the data\n",
    "X = player_stats_with_defense_cleaned[features]\n",
    "y = player_stats_with_defense_cleaned['threw_interception']\n",
    "\n",
    "X_train, X_test, y_train, y_test = train_test_split(X, y, test_size=0.2, random_state=42)\n",
    "\n",
    "# Train the logistic regression model\n",
    "model = LogisticRegression(max_iter=1000)\n",
    "model.fit(X_train, y_train)\n",
    "\n",
    "# Make predictions\n",
    "y_pred = model.predict(X_test)\n",
    "\n",
    "# Evaluation\n",
    "accuracy = accuracy_score(y_test, y_pred)\n",
    "report = classification_report(y_test, y_pred)\n",
    "conf_matrix = confusion_matrix(y_test, y_pred)\n",
    "\n",
    "# Print the results\n",
    "print(f\"Accuracy: {accuracy:.4f}\")\n",
    "print(\"\\nClassification Report:\\n\", report)\n",
    "print(\"\\nConfusion Matrix:\\n\", conf_matrix)"
   ]
  },
  {
   "cell_type": "code",
   "execution_count": 3,
   "id": "e56c9515-21e6-4976-8f95-b6efe056cedd",
   "metadata": {},
   "outputs": [
    {
     "name": "stdout",
     "output_type": "stream",
     "text": [
      "Random Forest Model\n",
      "Accuracy: 0.6130\n",
      "\n",
      "Classification Report:\n",
      "               precision    recall  f1-score   support\n",
      "\n",
      "           0       0.62      0.69      0.66       277\n",
      "           1       0.60      0.52      0.56       245\n",
      "\n",
      "    accuracy                           0.61       522\n",
      "   macro avg       0.61      0.61      0.61       522\n",
      "weighted avg       0.61      0.61      0.61       522\n",
      "\n",
      "\n",
      "Confusion Matrix:\n",
      " [[192  85]\n",
      " [117 128]]\n",
      "\n",
      "XGBoost Model\n",
      "Accuracy: 0.5747\n",
      "\n",
      "Classification Report:\n",
      "               precision    recall  f1-score   support\n",
      "\n",
      "           0       0.59      0.64      0.62       277\n",
      "           1       0.55      0.50      0.52       245\n",
      "\n",
      "    accuracy                           0.57       522\n",
      "   macro avg       0.57      0.57      0.57       522\n",
      "weighted avg       0.57      0.57      0.57       522\n",
      "\n",
      "\n",
      "Confusion Matrix:\n",
      " [[178  99]\n",
      " [123 122]]\n"
     ]
    }
   ],
   "source": [
    "# Compare Random Forest and XGBoost\n",
    "\n",
    "# Random Forest Model\n",
    "rf_model = RandomForestClassifier(n_estimators=100, random_state=42)\n",
    "rf_model.fit(X_train, y_train)\n",
    "y_pred_rf = rf_model.predict(X_test)\n",
    "\n",
    "# XGBoost Model\n",
    "xgb_model = XGBClassifier(eval_metric='logloss', random_state=42)\n",
    "xgb_model.fit(X_train, y_train)\n",
    "y_pred_xgb = xgb_model.predict(X_test)\n",
    "\n",
    "# Evaluation for Random Forest\n",
    "accuracy_rf = accuracy_score(y_test, y_pred_rf)\n",
    "report_rf = classification_report(y_test, y_pred_rf)\n",
    "conf_matrix_rf = confusion_matrix(y_test, y_pred_rf)\n",
    "\n",
    "print(\"Random Forest Model\")\n",
    "print(f\"Accuracy: {accuracy_rf:.4f}\")\n",
    "print(\"\\nClassification Report:\\n\", report_rf)\n",
    "print(\"\\nConfusion Matrix:\\n\", conf_matrix_rf)\n",
    "\n",
    "# Evaluation for XGBoost\n",
    "accuracy_xgb = accuracy_score(y_test, y_pred_xgb)\n",
    "report_xgb = classification_report(y_test, y_pred_xgb)\n",
    "conf_matrix_xgb = confusion_matrix(y_test, y_pred_xgb)\n",
    "\n",
    "print(\"\\nXGBoost Model\")\n",
    "print(f\"Accuracy: {accuracy_xgb:.4f}\")\n",
    "print(\"\\nClassification Report:\\n\", report_xgb)\n",
    "print(\"\\nConfusion Matrix:\\n\", conf_matrix_xgb)\n"
   ]
  },
  {
   "cell_type": "code",
   "execution_count": 7,
   "id": "95301a27-ef9b-498d-8273-6479d22da1b7",
   "metadata": {},
   "outputs": [
    {
     "ename": "NameError",
     "evalue": "name 'numeric_features' is not defined",
     "output_type": "error",
     "traceback": [
      "\u001b[0;31m---------------------------------------------------------------------------\u001b[0m",
      "\u001b[0;31mNameError\u001b[0m                                 Traceback (most recent call last)",
      "Cell \u001b[0;32mIn[7], line 21\u001b[0m\n\u001b[1;32m     18\u001b[0m predictions_data \u001b[38;5;241m=\u001b[39m shifted_stats\u001b[38;5;241m.\u001b[39mcombine_first(average_stats\u001b[38;5;241m.\u001b[39mset_index(\u001b[38;5;124m'\u001b[39m\u001b[38;5;124mplayer_display_name\u001b[39m\u001b[38;5;124m'\u001b[39m))\u001b[38;5;241m.\u001b[39mreset_index()\n\u001b[1;32m     20\u001b[0m \u001b[38;5;66;03m# Fill NaNs in numeric columns only\u001b[39;00m\n\u001b[0;32m---> 21\u001b[0m predictions_data[numeric_features] \u001b[38;5;241m=\u001b[39m predictions_data[\u001b[43mnumeric_features\u001b[49m]\u001b[38;5;241m.\u001b[39mfillna(predictions_data[numeric_features]\u001b[38;5;241m.\u001b[39mmean())\n\u001b[1;32m     23\u001b[0m \u001b[38;5;66;03m# Ensure the predictions_data has the same structure as your training data\u001b[39;00m\n\u001b[1;32m     24\u001b[0m predictions_data \u001b[38;5;241m=\u001b[39m predictions_data[features]\n",
      "\u001b[0;31mNameError\u001b[0m: name 'numeric_features' is not defined"
     ]
    }
   ],
   "source": [
    "# Here’s the full code that includes both the shifting of data and the use of historical averages \n",
    "# to estimate values for upcoming games:\n",
    "\n",
    "average_stats = player_stats_with_defense_cleaned.groupby('player_display_name').agg({\n",
    "    'attempts': 'mean',\n",
    "    'completions': 'mean',\n",
    "    'passing_yards': 'mean',\n",
    "    'passing_tds': 'mean',\n",
    "    'sacks': 'mean',\n",
    "    'opponent_defense_strength': 'mean'\n",
    "}).reset_index()\n",
    "\n",
    "# Step 2: Shift data by one game to predict the next game based on the previous one\n",
    "shifted_stats = player_stats_with_defense_cleaned.groupby('player_display_name')[features].shift(1)\n",
    "\n",
    "# Combine shifted stats with historical averages\n",
    "# If shifted stats are available, they take precedence; otherwise, use historical averages\n",
    "predictions_data = shifted_stats.combine_first(average_stats.set_index('player_display_name')).reset_index()\n",
    "\n",
    "# Fill NaNs in numeric columns only\n",
    "predictions_data[numeric_features] = predictions_data[numeric_features].fillna(predictions_data[numeric_features].mean())\n",
    "\n",
    "# Ensure the predictions_data has the same structure as your training data\n",
    "predictions_data = predictions_data[features]\n",
    "\n",
    "# Step 3: Predict probabilities for upcoming games\n",
    "interception_probabilities = model.predict_proba(predictions_data)\n",
    "\n",
    "# Print the probabilities\n",
    "interception_probabilities"
   ]
  },
  {
   "cell_type": "code",
   "execution_count": null,
   "id": "412bdcac-6cf7-4546-8b8a-415933292ec2",
   "metadata": {},
   "outputs": [],
   "source": []
  },
  {
   "cell_type": "code",
   "execution_count": null,
   "id": "fb287f14-6840-4074-b651-a5edcfa5a4c9",
   "metadata": {},
   "outputs": [],
   "source": []
  },
  {
   "cell_type": "code",
   "execution_count": null,
   "id": "0c464a09-793f-4a22-abe2-900901da8ce7",
   "metadata": {},
   "outputs": [],
   "source": []
  }
 ],
 "metadata": {
  "kernelspec": {
   "display_name": "Python 3 (ipykernel)",
   "language": "python",
   "name": "python3"
  },
  "language_info": {
   "codemirror_mode": {
    "name": "ipython",
    "version": 3
   },
   "file_extension": ".py",
   "mimetype": "text/x-python",
   "name": "python",
   "nbconvert_exporter": "python",
   "pygments_lexer": "ipython3",
   "version": "3.12.0"
  }
 },
 "nbformat": 4,
 "nbformat_minor": 5
}
