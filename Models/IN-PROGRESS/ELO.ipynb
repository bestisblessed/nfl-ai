{
 "cells": [
  {
   "cell_type": "code",
   "execution_count": 1,
   "id": "01db524f-e6ae-43b5-bd43-8075cf5bbf78",
   "metadata": {},
   "outputs": [],
   "source": [
    "import pandas as pd\n",
    "import numpy as np"
   ]
  },
  {
   "cell_type": "markdown",
   "id": "e215c2dd-9998-493f-9c68-4ff20d21f113",
   "metadata": {},
   "source": [
    "Implementing Elo ratings to rank teams and predict outcomes is a powerful way to analyze team performance. Elo ratings are widely used in sports to evaluate the relative skill levels of teams and can be applied to simulate future games and predict playoff probabilities.\n",
    "\n",
    "### Steps to Implement Elo Ratings:\n",
    "\n",
    "1. **Initialize Elo Ratings:** Assign a starting Elo rating to each team. Typically, all teams start with a baseline rating, like 1500.\n",
    "\n",
    "2. **Calculate Elo Ratings for Each Game:**\n",
    "   - **Expected Score:** Calculate the expected score for each team based on their Elo ratings.\n",
    "   - **Actual Score:** Determine the actual result of the game (win, loss, draw).\n",
    "   - **Update Elo Ratings:** Adjust the Elo ratings based on the game outcome using the Elo formula.\n",
    "\n",
    "3. **Simulate Future Games:** Use the updated Elo ratings to simulate future games, predicting outcomes and potential playoff scenarios.\n",
    "\n",
    "### Explanation:\n",
    "\n",
    "1. **Initialize Elo Ratings:**\n",
    "   - All teams start with a baseline Elo rating of 1500.\n",
    "\n",
    "2. **Calculate Elo Ratings for Each Game:**\n",
    "   - **Expected Score:** The expected score for each team is calculated based on their current Elo ratings.\n",
    "   - **Actual Score:** The actual game result is determined.\n",
    "   - **Update Elo Ratings:** The Elo ratings are adjusted based on the difference between the actual and expected scores.\n",
    "\n",
    "3. **Output Final Elo Ratings:**\n",
    "   - After processing all games, the final Elo ratings for each team are displayed.\n"
   ]
  },
  {
   "cell_type": "code",
   "execution_count": null,
   "id": "ebd255ee-9c4c-47e0-b3cb-cbdccc65edf8",
   "metadata": {},
   "outputs": [],
   "source": [
    "df = pd.read_csv('Games.csv')\n",
    "\n",
    "# Filter for recent seasons if needed (e.g., 2019-2023)\n",
    "df_recent = df[df['season'].isin([2019, 2020, 2021, 2022, 2023])].copy()\n",
    "\n",
    "# Initialize Elo ratings\n",
    "initial_elo = 1500\n",
    "elo_ratings = {team: initial_elo for team in pd.concat([df_recent['home_team'], df_recent['away_team']]).unique()}\n",
    "\n",
    "# Elo parameters\n",
    "K = 20  # K-factor, determines the sensitivity of Elo rating updates\n",
    "\n",
    "# Function to calculate Elo ratings\n",
    "def calculate_elo(rating1, rating2):\n",
    "    expected_score1 = 1 / (1 + 10 ** ((rating2 - rating1) / 400))\n",
    "    expected_score2 = 1 - expected_score1\n",
    "    return expected_score1, expected_score2\n",
    "\n",
    "# Process each game in chronological order\n",
    "for i, row in df_recent.iterrows():\n",
    "    home_team = row['home_team']\n",
    "    away_team = row['away_team']\n",
    "    \n",
    "    # Current Elo ratings\n",
    "    home_elo = elo_ratings[home_team]\n",
    "    away_elo = elo_ratings[away_team]\n",
    "    \n",
    "    # Calculate expected scores\n",
    "    expected_home, expected_away = calculate_elo(home_elo, away_elo)\n",
    "    \n",
    "    # Determine actual scores\n",
    "    if row['home_score'] > row['away_score']:\n",
    "        actual_home = 1\n",
    "        actual_away = 0\n",
    "    elif row['home_score'] < row['away_score']:\n",
    "        actual_home = 0\n",
    "        actual_away = 1\n",
    "    else:\n",
    "        actual_home = actual_away = 0.5  # In case of a draw\n",
    "    \n",
    "    # Update Elo ratings\n",
    "    elo_ratings[home_team] += K * (actual_home - expected_home)\n",
    "    elo_ratings[away_team] += K * (actual_away - expected_away)\n",
    "    \n",
    "    # Store updated ratings\n",
    "    df_recent.at[i, 'home_elo'] = elo_ratings[home_team]\n",
    "    df_recent.at[i, 'away_elo'] = elo_ratings[away_team]\n",
    "\n",
    "# Display the updated Elo ratings after processing all games\n",
    "final_elo_ratings = pd.DataFrame.from_dict(elo_ratings, orient='index', columns=['Final Elo Rating']).sort_values(by='Final Elo Rating', ascending=False)\n",
    "print(final_elo_ratings)\n"
   ]
  },
  {
   "cell_type": "markdown",
   "id": "b526f40f-dec7-4ed1-a644-aaeaf0d2b0c7",
   "metadata": {},
   "source": [
    "### Simulating Future Games:\n",
    "\n",
    "To simulate future games using Elo ratings:\n",
    "- Use the `calculate_elo` function to predict the outcome of upcoming games.\n",
    "- Adjust the Elo ratings based on the simulated results to predict how the rest of the season might unfold.\n",
    "\n",
    "### Advanced Usage:\n",
    "- **Playoff Probabilities:** Simulate the entire season multiple times to estimate playoff probabilities based on the final Elo ratings.\n",
    "- **Custom K-factor:** Adjust the `K` factor to make the Elo system more or less sensitive to game outcomes.\n"
   ]
  },
  {
   "cell_type": "code",
   "execution_count": null,
   "id": "f1fd0016-7b81-4c6c-be8e-45e260d73ef8",
   "metadata": {},
   "outputs": [],
   "source": []
  },
  {
   "cell_type": "code",
   "execution_count": null,
   "id": "b0cdb40e-42b1-4f6f-9c17-9ee6ee6368d1",
   "metadata": {},
   "outputs": [],
   "source": []
  }
 ],
 "metadata": {
  "kernelspec": {
   "display_name": "Python 3 (ipykernel)",
   "language": "python",
   "name": "python3"
  },
  "language_info": {
   "codemirror_mode": {
    "name": "ipython",
    "version": 3
   },
   "file_extension": ".py",
   "mimetype": "text/x-python",
   "name": "python",
   "nbconvert_exporter": "python",
   "pygments_lexer": "ipython3",
   "version": "3.12.0"
  }
 },
 "nbformat": 4,
 "nbformat_minor": 5
}
