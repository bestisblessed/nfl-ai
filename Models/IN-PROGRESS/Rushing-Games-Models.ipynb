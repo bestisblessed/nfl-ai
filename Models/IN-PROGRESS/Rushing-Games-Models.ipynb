{
 "cells": [
  {
   "cell_type": "code",
   "execution_count": 2,
   "id": "ad9d4479",
   "metadata": {},
   "outputs": [],
   "source": [
    "import pandas as pd"
   ]
  },
  {
   "cell_type": "markdown",
   "id": "767f0ad4",
   "metadata": {},
   "source": [
    "<h1 style=\"text-align:center; font-size:28px;\"> PLAYER PERFORMANCE MODEL </h1>"
   ]
  },
  {
   "cell_type": "markdown",
   "id": "59c2617a",
   "metadata": {},
   "source": [
    "The player performance prediction model aims to predict a specific aspect of a player's performance in an NFL game. In this case, we chose to predict the rushing yards for running backs (RBs). Here's a detailed breakdown of how the model works and the data it uses:\n",
    "\n",
    "### Data Used\n",
    "- **Dataset**: The model utilizes data from \"PlayerStats.csv\", which contains detailed statistics for individual NFL players.\n",
    "- **Target Variable**: The model predicts 'rushing_yards', which is a numerical variable indicating the total rushing yards gained by a player in a game.\n",
    "- **Feature**: For simplicity, the model currently uses only one feature, 'avg_rushing_yards', which is the average rushing yards per game for each player. This is calculated based on historical performance data.\n",
    "\n",
    "### Model Workflow\n",
    "1. **Data Filtering**: \n",
    "   - The dataset is filtered to include only running backs (RBs), as the rushing yards are most relevant to this position.\n",
    "\n",
    "2. **Feature Engineering**:\n",
    "   - **Average Rushing Yards**: For each player, their average rushing yards per game is calculated. This is done by grouping the data by player name and then computing the mean of the 'rushing_yards' for each player. This feature is assumed to be indicative of a player's typical performance.\n",
    "\n",
    "3. **Data Preparation**:\n",
    "   - The feature ('avg_rushing_yards') and the target variable ('rushing_yards') are extracted from the dataset.\n",
    "   - The data is then split into training and testing sets (typically an 80-20 split) to train the model and evaluate its performance on unseen data.\n",
    "\n",
    "4. **Model Selection and Training**:\n",
    "   - A **Random Forest Regressor** is chosen. Random Forest is a versatile and robust machine learning algorithm that can handle nonlinear relationships and interactions between features. It works by building multiple decision trees and merging their outputs.\n",
    "   - The model is trained on the training set using the 'avg_rushing_yards' as the input feature and 'rushing_yards' as the output to predict.\n",
    "\n",
    "5. **Model Prediction and Evaluation**:\n",
    "   - The model makes predictions on the test set.\n",
    "   - The performance is evaluated using the Mean Squared Error (MSE), which measures the average of the squares of the errors, i.e., the average squared difference between the estimated values and the actual value. A lower MSE indicates a better fit of the model to the data.\n",
    "\n",
    "### Assumptions and Limitations\n",
    "- The model assumes that a player's historical average rushing yards is a strong indicator of their future performance. While this is a reasonable starting point, player performance can be influenced by many other factors.\n",
    "- Currently, the model only uses one feature. Including more features like the opposing team's defense quality, player fitness, recent form, etc., could significantly enhance the model's accuracy.\n",
    "- The model does not account for team dynamics or specific game contexts, which can also impact player performance.\n",
    "\n",
    "### Potential Improvements\n",
    "- **Incorporate More Features**: Adding more relevant features can help the model capture the complexity of player performance better.\n",
    "- **Model Complexity and Tuning**: Experimenting with different models or tuning the hyperparameters of the Random Forest could yield better results.\n",
    "- **Cross-Validation**: Implementing cross-validation would help in better assessing the model's performance and generalizability.\n",
    "\n",
    "In summary, this model is a basic approach to predict player performance, focusing on a single key statistic. It serves as a foundation upon which more complex and accurate predictive models can be built by incorporating a broader range of features and employing more advanced modeling techniques."
   ]
  },
  {
   "cell_type": "code",
   "execution_count": 3,
   "id": "830a8356",
   "metadata": {},
   "outputs": [
    {
     "name": "stderr",
     "output_type": "stream",
     "text": [
      "/var/folders/wx/m1tmq8gx4_v321trybkxcg9m0000gn/T/ipykernel_26868/4069243.py:16: SettingWithCopyWarning: \n",
      "A value is trying to be set on a copy of a slice from a DataFrame.\n",
      "Try using .loc[row_indexer,col_indexer] = value instead\n",
      "\n",
      "See the caveats in the documentation: https://pandas.pydata.org/pandas-docs/stable/user_guide/indexing.html#returning-a-view-versus-a-copy\n",
      "  rb_stats['avg_rushing_yards'] = rb_stats['player_display_name'].map(avg_rushing_yards)\n"
     ]
    },
    {
     "ename": "NameError",
     "evalue": "name 'train_test_split' is not defined",
     "output_type": "error",
     "traceback": [
      "\u001b[31m---------------------------------------------------------------------------\u001b[39m",
      "\u001b[31mNameError\u001b[39m                                 Traceback (most recent call last)",
      "\u001b[36mCell\u001b[39m\u001b[36m \u001b[39m\u001b[32mIn[3]\u001b[39m\u001b[32m, line 24\u001b[39m\n\u001b[32m     21\u001b[39m y = rb_stats[\u001b[33m'\u001b[39m\u001b[33mrushing_yards\u001b[39m\u001b[33m'\u001b[39m]\n\u001b[32m     23\u001b[39m \u001b[38;5;66;03m# Splitting the dataset into training and testing sets\u001b[39;00m\n\u001b[32m---> \u001b[39m\u001b[32m24\u001b[39m X_train, X_test, y_train, y_test = \u001b[43mtrain_test_split\u001b[49m(X, y, test_size=\u001b[32m0.2\u001b[39m, random_state=\u001b[32m42\u001b[39m)\n\u001b[32m     26\u001b[39m \u001b[38;5;66;03m# Model Training using Random Forest Regressor\u001b[39;00m\n\u001b[32m     27\u001b[39m rf_model = RandomForestRegressor(n_estimators=\u001b[32m100\u001b[39m, random_state=\u001b[32m42\u001b[39m)\n",
      "\u001b[31mNameError\u001b[39m: name 'train_test_split' is not defined"
     ]
    }
   ],
   "source": [
    "from sklearn.ensemble import RandomForestRegressor\n",
    "from sklearn.metrics import mean_squared_error\n",
    "\n",
    "# Load the PlayerStats.csv dataset\n",
    "player_stats_df = pd.read_csv('data/PlayerStats.csv')\n",
    "\n",
    "# For demonstration, let's predict the rushing yards for running backs (RB)\n",
    "# Filter dataset for RBs\n",
    "rb_stats = player_stats_df[player_stats_df['position'] == 'RB']\n",
    "\n",
    "# Feature Engineering\n",
    "# Calculate average rushing yards per game for each player\n",
    "avg_rushing_yards = rb_stats.groupby('player_display_name')['rushing_yards'].mean().to_dict()\n",
    "\n",
    "# Create a feature for average rushing yards\n",
    "rb_stats['avg_rushing_yards'] = rb_stats['player_display_name'].map(avg_rushing_yards)\n",
    "\n",
    "# Selecting features and target\n",
    "features = ['avg_rushing_yards']\n",
    "X = rb_stats[features]\n",
    "y = rb_stats['rushing_yards']\n",
    "\n",
    "# Splitting the dataset into training and testing sets\n",
    "X_train, X_test, y_train, y_test = train_test_split(X, y, test_size=0.2, random_state=42)\n",
    "\n",
    "# Model Training using Random Forest Regressor\n",
    "rf_model = RandomForestRegressor(n_estimators=100, random_state=42)\n",
    "rf_model.fit(X_train, y_train)\n",
    "\n",
    "# Making predictions on the test set\n",
    "y_pred = rf_model.predict(X_test)\n",
    "\n",
    "# Evaluating the model\n",
    "mse = mean_squared_error(y_test, y_pred)\n",
    "\n",
    "# Output the model's performance\n",
    "print(\"Mean Squared Error:\", mse)\n",
    "\n",
    "# Note: Adjust the file path in the pd.read_csv() function as per your file location.\n"
   ]
  },
  {
   "cell_type": "code",
   "execution_count": null,
   "id": "74fa7e57",
   "metadata": {},
   "outputs": [],
   "source": []
  },
  {
   "cell_type": "code",
   "execution_count": null,
   "id": "f2ea99fc",
   "metadata": {},
   "outputs": [],
   "source": []
  },
  {
   "cell_type": "markdown",
   "id": "39672e6c",
   "metadata": {},
   "source": [
    "<h1 style=\"text-align:center; font-size:28px;\"> GAME MODEL </h1>"
   ]
  },
  {
   "cell_type": "markdown",
   "id": "f69733c8",
   "metadata": {},
   "source": [
    "The game outcome prediction model is designed to predict the result of an NFL game, specifically whether the home team wins or not. This model employs logistic regression, a common method for binary classification tasks. Here's a detailed explanation of how this model works and the data it uses:\n",
    "\n",
    "### Data Used\n",
    "- **Dataset**: The model uses data from \"Games.csv\", which contains detailed information about various NFL games.\n",
    "- **Target Variable**: The model predicts a binary outcome (`home_win`), indicating whether the home team wins (1) or not (0).\n",
    "- **Features**: In this implementation, two basic features are used: the average scores of the home team (`home_team_avg_score`) and the away team (`away_team_avg_score`) in previous games.\n",
    "\n",
    "### Model Workflow\n",
    "1. **Feature Engineering**:\n",
    "   - **Average Scores Calculation**: The average scores for each team when playing at home and away are computed. This is done by grouping the games by team and calculating the mean score.\n",
    "   - **New Features**: These average scores are then mapped to each game in the dataset, creating new features that represent the typical scoring performance of the home and away teams.\n",
    "\n",
    "2. **Data Preparation**:\n",
    "   - The new features (`home_team_avg_score` and `away_team_avg_score`) and the target variable (`home_win`) are extracted from the dataset.\n",
    "   - The dataset is split into training and testing sets to evaluate the model's performance on unseen data.\n",
    "\n",
    "3. **Model Selection and Training**:\n",
    "   - A **Logistic Regression** model is used. Logistic regression is suitable for binary classification tasks and predicts the probability of each class.\n",
    "   - The model is trained on the training set using the two features as input.\n",
    "\n",
    "4. **Model Prediction and Evaluation**:\n",
    "   - The model makes predictions on the test set.\n",
    "   - The performance is evaluated using accuracy (the proportion of correctly predicted outcomes) and a classification report, which includes precision, recall, and F1-score for each class.\n",
    "\n",
    "### Assumptions and Limitations\n",
    "- The model assumes that the average scoring performance of a team is a significant predictor of winning a game. This is a simplified assumption, as game outcomes can be influenced by numerous factors.\n",
    "- The model only uses two features, which might not capture the complexity of factors affecting game outcomes (e.g., player injuries, weather conditions, team form).\n",
    "- Logistic regression is a linear model and may not capture complex relationships as effectively as more sophisticated models.\n",
    "\n",
    "### Potential Improvements\n",
    "- **Incorporating More Features**: Including additional features such as head-to-head statistics, player availability, weather conditions, etc., could improve the model's predictive power.\n",
    "- **Advanced Models**: Exploring more complex models like Random Forests or Gradient Boosting Machines, which can handle non-linear relationships better.\n",
    "- **Hyperparameter Tuning**: Tuning the logistic regression model or employing regularization techniques to improve performance.\n",
    "\n",
    "In essence, this game outcome prediction model serves as a foundational approach, demonstrating how logistic regression can be applied to predict binary outcomes in sports analytics. To enhance its predictive accuracy, further development and integration of more nuanced and comprehensive features are necessary."
   ]
  },
  {
   "cell_type": "code",
   "execution_count": null,
   "id": "572a35f8",
   "metadata": {},
   "outputs": [],
   "source": [
    "# Import necessary libraries\n",
    "from sklearn.model_selection import train_test_split\n",
    "from sklearn.linear_model import LogisticRegression\n",
    "from sklearn.metrics import classification_report, accuracy_score\n",
    "from sklearn.preprocessing import StandardScaler\n",
    "\n",
    "# Load the dataset\n",
    "games_df = pd.read_csv('/path/to/Games.csv')\n",
    "\n",
    "# Feature Engineering\n",
    "# Calculate average scores for each team at home and away\n",
    "avg_home_scores = games_df.groupby('home_team')['home_score'].mean().to_dict()\n",
    "avg_away_scores = games_df.groupby('away_team')['away_score'].mean().to_dict()\n",
    "\n",
    "# Create new features in the dataframe for average scores\n",
    "games_df['home_team_avg_score'] = games_df['home_team'].map(avg_home_scores)\n",
    "games_df['away_team_avg_score'] = games_df['away_team'].map(avg_away_scores)\n",
    "\n",
    "# Target variable - Home team wins (1) or not (0)\n",
    "games_df['home_win'] = (games_df['home_score'] > games_df['away_score']).astype(int)\n",
    "\n",
    "# Selecting features and target for the model\n",
    "features = ['home_team_avg_score', 'away_team_avg_score']\n",
    "X = games_df[features]\n",
    "y = games_df['home_win']\n",
    "\n",
    "# Splitting the dataset into training and testing sets\n",
    "X_train, X_test, y_train, y_test = train_test_split(X, y, test_size=0.2, random_state=42)\n",
    "\n",
    "# Standardizing the features\n",
    "scaler = StandardScaler()\n",
    "X_train = scaler.fit_transform(X_train)\n",
    "X_test = scaler.transform(X_test)\n",
    "\n",
    "# Model Training using Logistic Regression\n",
    "logistic_model = LogisticRegression()\n",
    "logistic_model.fit(X_train, y_train)\n",
    "\n",
    "# Making predictions on the test set\n",
    "y_pred = logistic_model.predict(X_test)\n",
    "\n",
    "# Evaluating the model\n",
    "accuracy = accuracy_score(y_test, y_pred)\n",
    "report = classification_report(y_test, y_pred)\n",
    "\n",
    "# Output the model's performance\n",
    "print(\"Accuracy:\", accuracy)\n",
    "print(\"Classification Report:\")\n",
    "print(report)\n",
    "\n",
    "# Note: Adjust the file path in the pd.read_csv() function as per your file location.\n"
   ]
  },
  {
   "cell_type": "code",
   "execution_count": null,
   "id": "a219983f",
   "metadata": {},
   "outputs": [],
   "source": []
  },
  {
   "cell_type": "code",
   "execution_count": null,
   "id": "7446b1a8",
   "metadata": {},
   "outputs": [],
   "source": []
  },
  {
   "cell_type": "code",
   "execution_count": null,
   "id": "1b0738cb",
   "metadata": {},
   "outputs": [],
   "source": []
  }
 ],
 "metadata": {
  "kernelspec": {
   "display_name": "Python 3",
   "language": "python",
   "name": "python3"
  },
  "language_info": {
   "codemirror_mode": {
    "name": "ipython",
    "version": 3
   },
   "file_extension": ".py",
   "mimetype": "text/x-python",
   "name": "python",
   "nbconvert_exporter": "python",
   "pygments_lexer": "ipython3",
   "version": "3.12.0"
  }
 },
 "nbformat": 4,
 "nbformat_minor": 5
}
