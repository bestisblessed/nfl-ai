{
 "cells": [
  {
   "cell_type": "code",
   "execution_count": 1,
   "id": "22b1e240-9e90-43f6-8fb4-f39dbb323505",
   "metadata": {},
   "outputs": [],
   "source": [
    "import pandas as pd\n",
    "import numpy as np\n",
    "import random\n",
    "from scipy.stats import norm, poisson\n",
    "import statsmodels.api as sm\n",
    "# from statsmodels.formula.api import poisson\n",
    "import pandas as pd\n",
    "import numpy as np"
   ]
  },
  {
   "cell_type": "code",
   "execution_count": 2,
   "id": "a05e924e-5a8b-405b-bb1a-4af9d8630dbd",
   "metadata": {},
   "outputs": [
    {
     "name": "stdout",
     "output_type": "stream",
     "text": [
      "{'Touchdowns = 0': 0.5543671658298339, 'Touchdowns = 1': 0.3270367453096861, 'Touchdowns = 2': 0.09646407595465564}\n"
     ]
    }
   ],
   "source": [
    "# Basic Poisson Distribution for Scoring 0, 1 or 2 touchdowns\n",
    "\n",
    "data = pd.read_csv(\"data/PlayerStats.csv\")\n",
    "\n",
    "# Select the player of interest (example: wide receiver)\n",
    "wrSelected = 'Tyreek Hill'  # Change this to the wide receiver of interest\n",
    "\n",
    "# Filter the data to get only the rows for the selected player\n",
    "wrRows = data.loc[data[\"player_display_name\"] == wrSelected]\n",
    "\n",
    "# Calculate the average touchdowns per game (mean of the Poisson distribution)\n",
    "wrAvgTDs = np.average(wrRows['receiving_tds'])\n",
    "\n",
    "# Calculate the probabilities for scoring 0 or 1 touchdown for the player\n",
    "touchdown_probs = poisson.pmf(np.arange(3), wrAvgTDs)\n",
    "\n",
    "# Create a dictionary to display the results\n",
    "touchdown_probs_dict = {\n",
    "    f\"Touchdowns = {i}\": prob for i, prob in enumerate(touchdown_probs)\n",
    "}\n",
    "\n",
    "print(touchdown_probs_dict)"
   ]
  },
  {
   "cell_type": "code",
   "execution_count": 3,
   "id": "7df1942d-7684-4d9d-b87a-c3d1993ccd6b",
   "metadata": {},
   "outputs": [
    {
     "name": "stdout",
     "output_type": "stream",
     "text": [
      "{'Touchdowns = 0': 0.5959502703390716, 'Touchdowns = 1': 0.27836767713168137, 'Touchdowns = 2': 0.0865499855832598}\n"
     ]
    }
   ],
   "source": [
    "# Adding to Poisson Distribution for Scoring 0, 1 or 2 touchdowns\n",
    "\n",
    "data = pd.read_csv(\"data/PlayerStats.csv\")\n",
    "\n",
    "# Select the player of interest (example: wide receiver)\n",
    "wrSelected = 'Tyreek Hill'  # Change this to the wide receiver of interest\n",
    "\n",
    "# Filter the data to get only the rows for the selected player\n",
    "wrRows = data.loc[data[\"player_display_name\"] == wrSelected]\n",
    "\n",
    "# Select relevant features for the Poisson regression model\n",
    "X = wrRows[['targets', 'receptions', 'receiving_yards']]  # Add more features as needed\n",
    "y = wrRows['receiving_tds']\n",
    "\n",
    "# Add a constant to the model (intercept)\n",
    "X = sm.add_constant(X)\n",
    "\n",
    "# Fit the Poisson regression model\n",
    "poisson_model = sm.GLM(y, X, family=sm.families.Poisson()).fit()\n",
    "\n",
    "# Make a copy of the DataFrame to avoid SettingWithCopyWarning\n",
    "wrRows = wrRows.copy()\n",
    "\n",
    "# Predict the expected number of touchdowns for each game\n",
    "# wrRows.loc[:, 'predicted_tds'] = poisson_model.predict(X)\n",
    "wrRows['predicted_tds'] = poisson_model.predict(X)\n",
    "\n",
    "# Calculate the probabilities for scoring 0, 1, or 2 touchdowns for each game\n",
    "touchdown_probs = poisson.pmf(np.arange(3)[:, None], wrRows['predicted_tds'].values)\n",
    "\n",
    "# Average probabilities across all games\n",
    "average_probs = touchdown_probs.mean(axis=1)\n",
    "\n",
    "# Create a dictionary to display the results\n",
    "touchdown_probs_dict = {\n",
    "    f\"Touchdowns = {i}\": prob for i, prob in enumerate(average_probs)\n",
    "}\n",
    "\n",
    "# Print the results\n",
    "print(touchdown_probs_dict)"
   ]
  },
  {
   "cell_type": "code",
   "execution_count": null,
   "id": "051a60d8-b446-4a8d-9d51-f0cc289bc4eb",
   "metadata": {},
   "outputs": [],
   "source": [
    "# Basic Monte Carlo for passing yards\n",
    "\n",
    "qbData = pd.read_csv(\"data/PlayerStats.csv\")\n",
    "\n",
    "# Select the player you want to simulate\n",
    "qbSelected = 'Patrick Mahomes'\n",
    "\n",
    "# Filter the data to get only the rows for the selected player\n",
    "qbRows = qbData.loc[qbData[\"player_display_name\"] == qbSelected]\n",
    "\n",
    "# Calculate the average and standard deviation of passing yards per game\n",
    "qbAvgPassYards = np.average(qbRows['passing_yards'])\n",
    "qbSTDPassYards = np.std(qbRows['passing_yards'])\n",
    "\n",
    "# Simulate 10,000 games\n",
    "simmedNumbers = []\n",
    "for i in range(0, 10000):\n",
    "    rP = random.uniform(0, 1)\n",
    "    passYardsSim = norm.ppf(rP, loc=qbAvgPassYards, scale=qbSTDPassYards)\n",
    "    simmedNumbers.append(passYardsSim)\n",
    "\n",
    "# Calculate the average simulated passing yards\n",
    "avgSimmedGames = np.average(simmedNumbers)\n",
    "\n",
    "# Print simulated passing yards\n",
    "print(str(avgSimmedGames))"
   ]
  },
  {
   "cell_type": "code",
   "execution_count": null,
   "id": "9587c476-eb06-481e-93d8-cdb3dd53ee64",
   "metadata": {},
   "outputs": [],
   "source": []
  },
  {
   "cell_type": "code",
   "execution_count": null,
   "id": "0b680878-8dec-4b62-ba59-a037b22c85db",
   "metadata": {},
   "outputs": [],
   "source": []
  },
  {
   "cell_type": "code",
   "execution_count": null,
   "id": "2c62ba35-3a7e-46e5-822e-5e22c1b558f6",
   "metadata": {},
   "outputs": [],
   "source": []
  },
  {
   "cell_type": "code",
   "execution_count": null,
   "id": "a03a4dde-9bc9-4b41-a8db-0b4744ef997f",
   "metadata": {},
   "outputs": [],
   "source": []
  },
  {
   "cell_type": "code",
   "execution_count": null,
   "id": "46fa4db4-cd82-4623-823a-fd81c963fad1",
   "metadata": {},
   "outputs": [],
   "source": []
  }
 ],
 "metadata": {
  "kernelspec": {
   "display_name": "Python 3 (ipykernel)",
   "language": "python",
   "name": "python3"
  },
  "language_info": {
   "codemirror_mode": {
    "name": "ipython",
    "version": 3
   },
   "file_extension": ".py",
   "mimetype": "text/x-python",
   "name": "python",
   "nbconvert_exporter": "python",
   "pygments_lexer": "ipython3",
   "version": "3.12.0"
  }
 },
 "nbformat": 4,
 "nbformat_minor": 5
}
