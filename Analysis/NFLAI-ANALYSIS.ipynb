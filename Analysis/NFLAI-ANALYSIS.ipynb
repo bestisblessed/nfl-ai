   "id": "bdcd6e41",
    "# NFLAI Analysis Overview"
   "id": "16b70dfa",
    "- [Setup & Data Preparation](NFLAI-Setup-Data.ipynb)\n",
    "- [Betting Trends](NFLAI-Betting-Trends.ipynb)\n",
    "- [Team Trends](NFLAI-Team-Trends.ipynb)\n",
    "- [Player Trends](NFLAI-Player-Trends.ipynb)"
 "metadata": {},
