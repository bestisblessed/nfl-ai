{
 "cells": [
  {
   "cell_type": "code",
   "execution_count": null,
   "id": "c9843207-1b0b-4b81-b43d-2bfe365aec97",
   "metadata": {},
   "outputs": [],
   "source": [
    "import pandas as pd\n"
   ]
  },
  {
   "cell_type": "code",
   "execution_count": null,
   "id": "1671fc97-3ffa-4eea-a6c7-8ec89f620ee7",
   "metadata": {},
   "outputs": [],
   "source": []
  },
  {
   "cell_type": "code",
   "execution_count": 5,
   "id": "ee393774-4777-418e-ab20-4851022d8b1d",
   "metadata": {},
   "outputs": [
    {
     "name": "stdout",
     "output_type": "stream",
     "text": [
      "   Team  Avg_Longest_Pass_Allowed\n",
      "0   WAS                 41.171429\n",
      "1   LAC                 41.129032\n",
      "2   DET                 39.891892\n",
      "3    LV                 37.236842\n",
      "4   MIA                 36.853659\n",
      "5   TEN                 36.729730\n",
      "6    SF                 36.571429\n",
      "7   CIN                 36.463415\n",
      "8   MIN                 36.348837\n",
      "9    GB                 36.000000\n",
      "10  ATL                 35.641026\n",
      "11   LA                 35.395349\n",
      "12  JAX                 35.225000\n",
      "13  CHI                 34.690476\n",
      "14  ARI                 34.666667\n",
      "15   NO                 34.222222\n",
      "16  NYG                 34.128205\n",
      "17  CLE                 34.051282\n",
      "18  IND                 33.756757\n",
      "19  DAL                 33.704545\n",
      "20  NYJ                 33.578947\n",
      "21  DEN                 33.459459\n",
      "22  BAL                 33.439024\n",
      "23  CAR                 33.135135\n",
      "24   KC                 33.121951\n",
      "25  PIT                 32.918919\n",
      "26  SEA                 32.421053\n",
      "27   TB                 31.395833\n",
      "28  PHI                 31.354167\n",
      "29   NE                 31.243243\n",
      "30  HOU                 30.977778\n",
      "31  BUF                 28.725000\n"
     ]
    }
   ],
   "source": [
    "# Longest reception stats\n",
    "\n",
    "file_path = 'data/all_passing_rushing_receiving.csv'  # Adjust this path if necessary\n",
    "df = pd.read_csv(file_path)\n",
    "\n",
    "# Step 1: Filter data for seasons 2020-2023\n",
    "# df_filtered = df[df['game_id'].str.startswith(('2020', '2021', '2022', '2023'))]\n",
    "df_filtered = df[df['game_id'].str.startswith(('2022', '2023'))]\n",
    "\n",
    "# Step 2: Filter rows where the player is a QB and all pass stats are present\n",
    "df_qb = df_filtered.dropna(subset=['pass_cmp', 'pass_att', 'pass_yds', 'pass_td'])\n",
    "\n",
    "# Step 3: Remove invalid pass_long values (i.e., <= 0)\n",
    "df_qb_valid = df_qb[df_qb['pass_long'] > 0]\n",
    "\n",
    "# Step 4: Group by opponent team and calculate the average longest pass allowed\n",
    "team_longest_pass_qb = df_qb_valid.groupby('opponent_team')['pass_long'].mean().reset_index()\n",
    "\n",
    "# Step 5: Rename columns for clarity\n",
    "team_longest_pass_qb.columns = ['Team', 'Avg_Longest_Pass_Allowed']\n",
    "\n",
    "# Step 6: Rank teams from best to worst (shortest average longest pass is best)\n",
    "team_longest_pass_qb = team_longest_pass_qb.sort_values(by='Avg_Longest_Pass_Allowed', ascending=False).reset_index(drop=True)\n",
    "\n",
    "# Display the results\n",
    "print(team_longest_pass_qb)\n",
    "\n",
    "# Optionally, save the ranked results to a CSV file\n",
    "team_longest_pass_qb.to_csv('data/team_longest_pass_ranking.csv', index=False)\n"
   ]
  },
  {
   "cell_type": "code",
   "execution_count": 6,
   "id": "35c1f1dc-a989-429e-88da-29fe7346717b",
   "metadata": {},
   "outputs": [
    {
     "name": "stdout",
     "output_type": "stream",
     "text": [
      "               game_id             player team opponent_team  rec_long\n",
      "44292  2023_18_BUF_MIA     Chase Claypool  MIA           BUF       3.0\n",
      "44281  2023_18_BUF_MIA        Dawson Knox  BUF           MIA      17.0\n",
      "44273  2023_18_BUF_MIA         Josh Allen  BUF           MIA       0.0\n",
      "44274  2023_18_BUF_MIA         James Cook  BUF           MIA       6.0\n",
      "44275  2023_18_BUF_MIA  Leonard Fournette  BUF           MIA       0.0\n",
      "44276  2023_18_BUF_MIA         Ty Johnson  BUF           MIA       9.0\n",
      "44277  2023_18_BUF_MIA      Khalil Shakir  BUF           MIA      46.0\n",
      "44278  2023_18_BUF_MIA       Stefon Diggs  BUF           MIA      36.0\n",
      "44279  2023_18_BUF_MIA     Dalton Kincaid  BUF           MIA      29.0\n",
      "44280  2023_18_BUF_MIA    Trent Sherfield  BUF           MIA      12.0\n"
     ]
    }
   ],
   "source": [
    "# Matchup reception stats \n",
    "\n",
    "file_path = 'data/all_passing_rushing_receiving.csv'  # Adjust this path if necessary\n",
    "df = pd.read_csv(file_path)\n",
    "\n",
    "# Step 1: Filter data for matchups between Bills (BUF) and Dolphins (MIA)\n",
    "bills_vs_dolphins = df[((df['team'] == 'BUF') & (df['opponent_team'] == 'MIA')) | \n",
    "                       ((df['team'] == 'MIA') & (df['opponent_team'] == 'BUF'))]\n",
    "\n",
    "# Step 2: Sort by game_id to get the last 10 games (assuming game_id is sorted by date)\n",
    "# If game_id isn't perfectly chronological, you might want to sort by date column if available.\n",
    "bills_vs_dolphins_sorted = bills_vs_dolphins.sort_values(by='game_id', ascending=False).head(10)\n",
    "\n",
    "# Step 3: Select relevant columns for longest reception stats\n",
    "longest_reception_stats = bills_vs_dolphins_sorted[['game_id', 'player', 'team', 'opponent_team', 'rec_long']]\n",
    "\n",
    "# Display the result\n",
    "print(longest_reception_stats)\n",
    "\n",
    "# Optionally, save the result to a CSV\n",
    "longest_reception_stats.to_csv('data/bills_vs_dolphins_longest_receptions.csv', index=False)\n"
   ]
  },
  {
   "cell_type": "code",
   "execution_count": 8,
   "id": "c53990f5-ae72-4037-b750-d22764c6f619",
   "metadata": {},
   "outputs": [
    {
     "name": "stdout",
     "output_type": "stream",
     "text": [
      "               game_id           player team opponent_team  pass_long\n",
      "44284  2023_18_BUF_MIA   Tua Tagovailoa  MIA           BUF       24.0\n",
      "44273  2023_18_BUF_MIA       Josh Allen  BUF           MIA       46.0\n",
      "39807  2023_04_MIA_BUF       Josh Allen  BUF           MIA       55.0\n",
      "39797  2023_04_MIA_BUF   Tua Tagovailoa  MIA           BUF       23.0\n",
      "50096  2022_19_MIA_BUF       Josh Allen  BUF           MIA       52.0\n",
      "50086  2022_19_MIA_BUF  Skylar Thompson  MIA           BUF       25.0\n",
      "48834  2022_15_MIA_BUF       Josh Allen  BUF           MIA       45.0\n",
      "48823  2022_15_MIA_BUF   Tua Tagovailoa  MIA           BUF       67.0\n",
      "45288  2022_03_BUF_MIA   Tua Tagovailoa  MIA           BUF       45.0\n",
      "45275  2022_03_BUF_MIA       Josh Allen  BUF           MIA       28.0\n"
     ]
    }
   ],
   "source": [
    "# Longest pass matchup stats \n",
    "\n",
    "file_path = 'data/all_passing_rushing_receiving.csv'  # Adjust this path if necessary\n",
    "df = pd.read_csv(file_path)\n",
    "\n",
    "# Step 1: Filter data for matchups between Bills (BUF) and Dolphins (MIA)\n",
    "bills_vs_dolphins = df[((df['team'] == 'BUF') & (df['opponent_team'] == 'MIA')) | \n",
    "                       ((df['team'] == 'MIA') & (df['opponent_team'] == 'BUF'))]\n",
    "\n",
    "# Step 2: Filter only quarterback positions (position == 'QB') and exclude rows where pass_long is 0\n",
    "bills_vs_dolphins_qbs = bills_vs_dolphins[(bills_vs_dolphins['position'] == 'QB') & \n",
    "                                          (bills_vs_dolphins['pass_long'] > 0)]\n",
    "# Step 3: Sort by game_id to get the last 10 games (assuming game_id is sorted by date)\n",
    "bills_vs_dolphins_qbs_sorted = bills_vs_dolphins_qbs.sort_values(by='game_id', ascending=False).head(10)\n",
    "\n",
    "# Step 4: Select relevant columns for longest throw stats\n",
    "longest_throw_stats = bills_vs_dolphins_qbs_sorted[['game_id', 'player', 'team', 'opponent_team', 'pass_long']]\n",
    "\n",
    "# Display the result\n",
    "print(longest_throw_stats)\n",
    "\n",
    "# Optionally, save the result to a CSV\n",
    "longest_throw_stats.to_csv('data/bills_vs_dolphins_qb_longest_throws.csv', index=False)\n"
   ]
  },
  {
   "cell_type": "code",
   "execution_count": null,
   "id": "8504d674-82fa-46c4-9c92-8d0f2ecfad67",
   "metadata": {},
   "outputs": [],
   "source": []
  },
  {
   "cell_type": "code",
   "execution_count": 10,
   "id": "c2be65a4-f287-43f1-946f-37bb218f26a7",
   "metadata": {},
   "outputs": [
    {
     "name": "stdout",
     "output_type": "stream",
     "text": [
      "   opponent_team  rec_td\n",
      "0             GB    25.0\n",
      "1             TB    24.0\n",
      "2            DET    24.0\n",
      "3            PHI    23.0\n",
      "4            MIA    23.0\n",
      "5             LA    22.0\n",
      "6            LAC    22.0\n",
      "7            JAX    22.0\n",
      "8             LV    21.0\n",
      "9             KC    20.0\n",
      "10           SEA    20.0\n",
      "11           HOU    20.0\n",
      "12           ATL    20.0\n",
      "13           PIT    19.0\n",
      "14           NYJ    19.0\n",
      "15           ARI    19.0\n",
      "16           CLE    19.0\n",
      "17           CHI    19.0\n",
      "18           IND    18.0\n",
      "19            NE    18.0\n",
      "20           CIN    18.0\n",
      "21           CAR    18.0\n",
      "22           DEN    17.0\n",
      "23           MIN    17.0\n",
      "24           NYG    17.0\n",
      "25           DAL    16.0\n",
      "26           BAL    16.0\n",
      "27           WAS    15.0\n",
      "28           TEN    14.0\n",
      "29            NO    13.0\n",
      "30            SF    11.0\n",
      "31           BUF    10.0\n"
     ]
    }
   ],
   "source": [
    "# Tight end defense\n",
    "\n",
    "file_path = 'data/all_passing_rushing_receiving.csv'  # Adjust this path if necessary\n",
    "df = pd.read_csv(file_path)\n",
    "\n",
    "# Step 1: Filter the data for seasons 2021 to present (based on game_id)\n",
    "df_since_2021 = df[df['game_id'].str.startswith(('2021', '2022', '2023', '2024'))]\n",
    "\n",
    "# Step 2: Filter for tight ends (position == 'TE')\n",
    "df_tight_ends = df_since_2021[df_since_2021['position'] == 'TE']\n",
    "\n",
    "# Step 3: Group by opponent team and sum the number of receiving touchdowns (rec_td)\n",
    "te_touchdowns_allowed = df_tight_ends.groupby('opponent_team')['rec_td'].sum().reset_index()\n",
    "\n",
    "# Step 4: Sort by touchdowns allowed from most to least\n",
    "te_touchdowns_allowed = te_touchdowns_allowed.sort_values(by='rec_td', ascending=False).reset_index(drop=True)\n",
    "\n",
    "# Display the result\n",
    "print(te_touchdowns_allowed)\n",
    "\n",
    "# Optionally, save the result to a CSV\n",
    "te_touchdowns_allowed.to_csv('data/te_touchdowns_allowed_2021_present.csv', index=False)\n"
   ]
  },
  {
   "cell_type": "code",
   "execution_count": null,
   "id": "716efa70-8a1b-48d4-869e-01fbfbe3e049",
   "metadata": {},
   "outputs": [],
   "source": []
  },
  {
   "cell_type": "code",
   "execution_count": null,
   "id": "4535624d-3b0f-4e7f-936c-472fdb0d871e",
   "metadata": {},
   "outputs": [],
   "source": []
  },
  {
   "cell_type": "code",
   "execution_count": null,
   "id": "0e1d5d8a-dfd3-43db-942d-352a15c83000",
   "metadata": {},
   "outputs": [],
   "source": []
  },
  {
   "cell_type": "code",
   "execution_count": null,
   "id": "80b447dc-14b3-4b57-abf0-995616fb1b04",
   "metadata": {},
   "outputs": [],
   "source": []
  }
 ],
 "metadata": {
  "kernelspec": {
   "display_name": "Python 3 (ipykernel)",
   "language": "python",
   "name": "python3"
  },
  "language_info": {
   "codemirror_mode": {
    "name": "ipython",
    "version": 3
   },
   "file_extension": ".py",
   "mimetype": "text/x-python",
   "name": "python",
   "nbconvert_exporter": "python",
   "pygments_lexer": "ipython3",
   "version": "3.12.0"
  }
 },
 "nbformat": 4,
 "nbformat_minor": 5
}
